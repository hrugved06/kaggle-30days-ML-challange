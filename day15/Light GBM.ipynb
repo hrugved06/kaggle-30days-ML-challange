{
 "cells": [
  {
   "cell_type": "code",
   "execution_count": 1,
   "metadata": {
    "_cell_guid": "b1076dfc-b9ad-4769-8c92-a6c4dae69d19",
    "_uuid": "8f2839f25d086af736a60e9eeb907d3b93b6e0e5",
    "execution": {
     "iopub.execute_input": "2021-03-02T14:48:24.459581Z",
     "iopub.status.busy": "2021-03-02T14:48:24.458898Z",
     "iopub.status.idle": "2021-03-02T14:48:25.469234Z",
     "shell.execute_reply": "2021-03-02T14:48:25.468106Z"
    },
    "papermill": {
     "duration": 1.022058,
     "end_time": "2021-03-02T14:48:25.469482",
     "exception": false,
     "start_time": "2021-03-02T14:48:24.447424",
     "status": "completed"
    },
    "tags": []
   },
   "outputs": [
    {
     "data": {
      "text/html": [
       "<style type='text/css'>\n",
       ".datatable table.frame { margin-bottom: 0; }\n",
       ".datatable table.frame thead { border-bottom: none; }\n",
       ".datatable table.frame tr.coltypes td {  color: #FFFFFF;  line-height: 6px;  padding: 0 0.5em;}\n",
       ".datatable .bool    { background: #DDDD99; }\n",
       ".datatable .object  { background: #565656; }\n",
       ".datatable .int     { background: #5D9E5D; }\n",
       ".datatable .float   { background: #4040CC; }\n",
       ".datatable .str     { background: #CC4040; }\n",
       ".datatable .row_index {  background: var(--jp-border-color3);  border-right: 1px solid var(--jp-border-color0);  color: var(--jp-ui-font-color3);  font-size: 9px;}\n",
       ".datatable .frame tr.coltypes .row_index {  background: var(--jp-border-color0);}\n",
       ".datatable th:nth-child(2) { padding-left: 12px; }\n",
       ".datatable .hellipsis {  color: var(--jp-cell-editor-border-color);}\n",
       ".datatable .vellipsis {  background: var(--jp-layout-color0);  color: var(--jp-cell-editor-border-color);}\n",
       ".datatable .na {  color: var(--jp-cell-editor-border-color);  font-size: 80%;}\n",
       ".datatable .footer { font-size: 9px; }\n",
       ".datatable .frame_dimensions {  background: var(--jp-border-color3);  border-top: 1px solid var(--jp-border-color0);  color: var(--jp-ui-font-color3);  display: inline-block;  opacity: 0.6;  padding: 1px 10px 1px 5px;}\n",
       "</style>\n"
      ],
      "text/plain": [
       "<IPython.core.display.HTML object>"
      ]
     },
     "metadata": {},
     "output_type": "display_data"
    }
   ],
   "source": [
    "import numpy as np\n",
    "import pandas as pd\n",
    "from sklearn.preprocessing import LabelEncoder\n",
    "from lightgbm import LGBMRegressor\n",
    "from sklearn.model_selection import KFold\n",
    "from tqdm import tqdm\n",
    "from sklearn.metrics import mean_squared_error\n",
    "import warnings\n",
    "warnings.filterwarnings('ignore')"
   ]
  },
  {
   "cell_type": "code",
   "execution_count": 2,
   "metadata": {
    "execution": {
     "iopub.execute_input": "2021-03-02T14:48:25.487278Z",
     "iopub.status.busy": "2021-03-02T14:48:25.486500Z",
     "iopub.status.idle": "2021-03-02T14:48:29.552930Z",
     "shell.execute_reply": "2021-03-02T14:48:29.551980Z"
    },
    "papermill": {
     "duration": 4.077429,
     "end_time": "2021-03-02T14:48:29.553082",
     "exception": false,
     "start_time": "2021-03-02T14:48:25.475653",
     "status": "completed"
    },
    "tags": []
   },
   "outputs": [],
   "source": [
    "X = pd.read_csv('../input/tabular-playground-series-feb-2021/train.csv',encoding='utf-8',index_col=0)\n",
    "test = pd.read_csv('../input/tabular-playground-series-feb-2021/test.csv',encoding='utf-8',index_col=0)\n",
    "\n",
    "y = X['target']\n",
    "X = X.drop(['target'], axis= 1)"
   ]
  },
  {
   "cell_type": "code",
   "execution_count": 3,
   "metadata": {
    "execution": {
     "iopub.execute_input": "2021-03-02T14:48:29.710488Z",
     "iopub.status.busy": "2021-03-02T14:48:29.625598Z",
     "iopub.status.idle": "2021-03-02T14:48:31.439150Z",
     "shell.execute_reply": "2021-03-02T14:48:31.438433Z"
    },
    "papermill": {
     "duration": 1.880353,
     "end_time": "2021-03-02T14:48:31.439320",
     "exception": false,
     "start_time": "2021-03-02T14:48:29.558967",
     "status": "completed"
    },
    "tags": []
   },
   "outputs": [],
   "source": [
    "label = LabelEncoder()\n",
    "categorical_feature = np.where(X.dtypes != 'float64')[0].tolist()\n",
    "categorical_feature_columns = X.select_dtypes(exclude=['float64']).columns\n",
    "\n",
    "for column in categorical_feature_columns:\n",
    "        label.fit(X[column])\n",
    "        X[column] = label.transform(X[column])\n",
    "        test[column] = label.transform(test[column])"
   ]
  },
  {
   "cell_type": "markdown",
   "metadata": {
    "papermill": {
     "duration": 0.005576,
     "end_time": "2021-03-02T14:48:31.450691",
     "exception": false,
     "start_time": "2021-03-02T14:48:31.445115",
     "status": "completed"
    },
    "tags": []
   },
   "source": [
    "Slightly tuned the LGBM parameters from this kernel https://www.kaggle.com/awwalmalhi/extreme-fine-tuning-lgbm-using-7-step-training"
   ]
  },
  {
   "cell_type": "code",
   "execution_count": 4,
   "metadata": {
    "execution": {
     "iopub.execute_input": "2021-03-02T14:48:31.468063Z",
     "iopub.status.busy": "2021-03-02T14:48:31.467279Z",
     "iopub.status.idle": "2021-03-02T14:48:31.471237Z",
     "shell.execute_reply": "2021-03-02T14:48:31.470762Z"
    },
    "papermill": {
     "duration": 0.015084,
     "end_time": "2021-03-02T14:48:31.471401",
     "exception": false,
     "start_time": "2021-03-02T14:48:31.456317",
     "status": "completed"
    },
    "tags": []
   },
   "outputs": [],
   "source": [
    "lgbm_parameters = {\n",
    "    'metric': 'rmse', \n",
    "    'n_jobs': -1,\n",
    "    'n_estimators': 50000,\n",
    "    'reg_alpha': 10.924491968127692,\n",
    "    'reg_lambda': 17.396730654687218,\n",
    "    'colsample_bytree': 0.21497646795452627,\n",
    "    'subsample': 0.7582562557431147,\n",
    "    'learning_rate': 0.009985133666265425,\n",
    "    'max_depth': 18,\n",
    "    'num_leaves': 63,\n",
    "    'min_child_samples': 27,\n",
    "    'max_bin': 523,\n",
    "    'cat_l2': 0.025083670064082797\n",
    "}"
   ]
  },
  {
   "cell_type": "code",
   "execution_count": 5,
   "metadata": {
    "execution": {
     "iopub.execute_input": "2021-03-02T14:48:31.491698Z",
     "iopub.status.busy": "2021-03-02T14:48:31.490945Z",
     "iopub.status.idle": "2021-03-02T15:03:01.482967Z",
     "shell.execute_reply": "2021-03-02T15:03:01.482382Z"
    },
    "papermill": {
     "duration": 870.005942,
     "end_time": "2021-03-02T15:03:01.483127",
     "exception": false,
     "start_time": "2021-03-02T14:48:31.477185",
     "status": "completed"
    },
    "tags": []
   },
   "outputs": [
    {
     "name": "stderr",
     "output_type": "stream",
     "text": [
      "0it [00:00, ?it/s]"
     ]
    },
    {
     "name": "stdout",
     "output_type": "stream",
     "text": [
      "Training until validation scores don't improve for 400 rounds\n",
      "Early stopping, best iteration is:\n",
      "[3257]\tvalid_0's rmse: 0.842359\n"
     ]
    },
    {
     "name": "stderr",
     "output_type": "stream",
     "text": [
      "1it [01:28, 88.53s/it]"
     ]
    },
    {
     "name": "stdout",
     "output_type": "stream",
     "text": [
      "Training until validation scores don't improve for 400 rounds\n",
      "Early stopping, best iteration is:\n",
      "[3358]\tvalid_0's rmse: 0.833311\n"
     ]
    },
    {
     "name": "stderr",
     "output_type": "stream",
     "text": [
      "2it [02:58, 89.57s/it]"
     ]
    },
    {
     "name": "stdout",
     "output_type": "stream",
     "text": [
      "Training until validation scores don't improve for 400 rounds\n",
      "Early stopping, best iteration is:\n",
      "[4247]\tvalid_0's rmse: 0.840687\n"
     ]
    },
    {
     "name": "stderr",
     "output_type": "stream",
     "text": [
      "3it [04:48, 98.71s/it]"
     ]
    },
    {
     "name": "stdout",
     "output_type": "stream",
     "text": [
      "Training until validation scores don't improve for 400 rounds\n",
      "Early stopping, best iteration is:\n",
      "[3096]\tvalid_0's rmse: 0.841742\n"
     ]
    },
    {
     "name": "stderr",
     "output_type": "stream",
     "text": [
      "4it [06:13, 93.15s/it]"
     ]
    },
    {
     "name": "stdout",
     "output_type": "stream",
     "text": [
      "Training until validation scores don't improve for 400 rounds\n",
      "Early stopping, best iteration is:\n",
      "[3222]\tvalid_0's rmse: 0.845787\n"
     ]
    },
    {
     "name": "stderr",
     "output_type": "stream",
     "text": [
      "5it [07:40, 91.18s/it]"
     ]
    },
    {
     "name": "stdout",
     "output_type": "stream",
     "text": [
      "Training until validation scores don't improve for 400 rounds\n",
      "Early stopping, best iteration is:\n",
      "[2603]\tvalid_0's rmse: 0.842103\n"
     ]
    },
    {
     "name": "stderr",
     "output_type": "stream",
     "text": [
      "6it [08:55, 85.46s/it]"
     ]
    },
    {
     "name": "stdout",
     "output_type": "stream",
     "text": [
      "Training until validation scores don't improve for 400 rounds\n",
      "Early stopping, best iteration is:\n",
      "[2950]\tvalid_0's rmse: 0.84482\n"
     ]
    },
    {
     "name": "stderr",
     "output_type": "stream",
     "text": [
      "7it [10:17, 84.48s/it]"
     ]
    },
    {
     "name": "stdout",
     "output_type": "stream",
     "text": [
      "Training until validation scores don't improve for 400 rounds\n",
      "Early stopping, best iteration is:\n",
      "[3233]\tvalid_0's rmse: 0.83974\n"
     ]
    },
    {
     "name": "stderr",
     "output_type": "stream",
     "text": [
      "8it [11:45, 85.61s/it]"
     ]
    },
    {
     "name": "stdout",
     "output_type": "stream",
     "text": [
      "Training until validation scores don't improve for 400 rounds\n",
      "Early stopping, best iteration is:\n",
      "[2793]\tvalid_0's rmse: 0.846024\n"
     ]
    },
    {
     "name": "stderr",
     "output_type": "stream",
     "text": [
      "9it [13:03, 83.30s/it]"
     ]
    },
    {
     "name": "stdout",
     "output_type": "stream",
     "text": [
      "Training until validation scores don't improve for 400 rounds\n",
      "Early stopping, best iteration is:\n",
      "[3146]\tvalid_0's rmse: 0.840959\n"
     ]
    },
    {
     "name": "stderr",
     "output_type": "stream",
     "text": [
      "10it [14:29, 86.93s/it]\n"
     ]
    }
   ],
   "source": [
    "lgbm_val_pred = np.zeros(len(y))\n",
    "lgbm_test_pred = np.zeros(len(test))\n",
    "mse = []\n",
    "kf = KFold(n_splits=10, shuffle=True)\n",
    "\n",
    "for trn_idx, val_idx in tqdm(kf.split(X,y)):\n",
    "    x_train_idx = X.iloc[trn_idx]\n",
    "    y_train_idx = y.iloc[trn_idx]\n",
    "    x_valid_idx = X.iloc[val_idx]\n",
    "    y_valid_idx = y.iloc[val_idx]\n",
    "\n",
    "    lgbm_model = LGBMRegressor(**lgbm_parameters)\n",
    "    lgbm_model.fit(x_train_idx, y_train_idx, eval_set = ((x_valid_idx,y_valid_idx)),verbose = -1, early_stopping_rounds = 400,categorical_feature=categorical_feature)  \n",
    "    lgbm_test_pred += lgbm_model.predict(test)/10\n",
    "    mse.append(mean_squared_error(y_valid_idx, lgbm_model.predict(x_valid_idx)))\n",
    "    \n",
    "np.mean(mse)\n",
    "pd.DataFrame({'id':test.index,'target':lgbm_test_pred}).to_csv('submission.csv', index=False)"
   ]
  }
 ],
 "metadata": {
  "kernelspec": {
   "display_name": "Python 3",
   "language": "python",
   "name": "python3"
  },
  "language_info": {
   "codemirror_mode": {
    "name": "ipython",
    "version": 3
   },
   "file_extension": ".py",
   "mimetype": "text/x-python",
   "name": "python",
   "nbconvert_exporter": "python",
   "pygments_lexer": "ipython3",
   "version": "3.7.9"
  },
  "papermill": {
   "default_parameters": {},
   "duration": 882.950903,
   "end_time": "2021-03-02T15:03:02.108570",
   "environment_variables": {},
   "exception": null,
   "input_path": "__notebook__.ipynb",
   "output_path": "__notebook__.ipynb",
   "parameters": {},
   "start_time": "2021-03-02T14:48:19.157667",
   "version": "2.2.2"
  }
 },
 "nbformat": 4,
 "nbformat_minor": 4
}
